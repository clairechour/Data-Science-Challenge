{
 "cells": [
  {
   "cell_type": "code",
   "execution_count": 1,
   "metadata": {},
   "outputs": [],
   "source": [
    "# 2. SQL\n",
    "# Implement SQL query to select employees first names and last names(employee and managers) \n",
    "# who worked from 2020-01-01 to 2020-01-31. Note that dt_work_from and dt_work_to are \n",
    "# date-time fields.\n",
    "SELECT employee.first_name, employee.last_name, manager.first_name, manager.last_name FROM \n",
    "employee FULL OUTER JOIN table_1 ON employee.id_employee = table_1.id_employee FULL OUTER \n",
    "JOIN manager ON table_1.id_manager = manager.id_manager WHERE \n",
    "table_1.dt_work_from = '2020-01-01' AND table_1.dt_work_to = '2020-01-31'"
   ]
  },
  {
   "cell_type": "code",
   "execution_count": null,
   "metadata": {},
   "outputs": [],
   "source": []
  }
 ],
 "metadata": {
  "kernelspec": {
   "display_name": "Python 3",
   "language": "python",
   "name": "python3"
  },
  "language_info": {
   "codemirror_mode": {
    "name": "ipython",
    "version": 3
   },
   "file_extension": ".py",
   "mimetype": "text/x-python",
   "name": "python",
   "nbconvert_exporter": "python",
   "pygments_lexer": "ipython3",
   "version": "3.7.6"
  }
 },
 "nbformat": 4,
 "nbformat_minor": 4
}
