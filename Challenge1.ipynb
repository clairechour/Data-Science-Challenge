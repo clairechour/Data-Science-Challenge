{
 "cells": [
  {
   "cell_type": "code",
   "execution_count": 3,
   "metadata": {},
   "outputs": [],
   "source": [
    "import pandas as pd\n",
    "import numpy as np"
   ]
  },
  {
   "cell_type": "code",
   "execution_count": 4,
   "metadata": {},
   "outputs": [],
   "source": [
    "# 1. Python\n",
    "class MoneyBox:\n",
    "    def __init__(self, capacity):\n",
    "        self.capacity = capacity\n",
    "        self.start = 0\n",
    "\n",
    "    def can_add(self, v):\n",
    "        # True, if you can add v coins, False otherwise\n",
    "        return self.start + v <= self.capacity\n",
    "       \n",
    "    def add(self, v):\n",
    "        # put v coins to moneybox\n",
    "        if self.can_add(v):\n",
    "            self.start += v\n",
    "        else:\n",
    "            print(\"Money box is full\")"
   ]
  },
  {
   "cell_type": "code",
   "execution_count": null,
   "metadata": {},
   "outputs": [],
   "source": []
  }
 ],
 "metadata": {
  "kernelspec": {
   "display_name": "Python 3",
   "language": "python",
   "name": "python3"
  },
  "language_info": {
   "codemirror_mode": {
    "name": "ipython",
    "version": 3
   },
   "file_extension": ".py",
   "mimetype": "text/x-python",
   "name": "python",
   "nbconvert_exporter": "python",
   "pygments_lexer": "ipython3",
   "version": "3.7.6"
  }
 },
 "nbformat": 4,
 "nbformat_minor": 4
}
